{
 "cells": [
  {
   "cell_type": "code",
   "execution_count": 10,
   "metadata": {},
   "outputs": [],
   "source": [
    "import os\n",
    "import shutil\n",
    "data_in = r'G:\\.shortcut-targets-by-id\\1QcULPOFr9beLwpEjtggCQNxSg3ma9EXf\\Project World Bank'\n",
    "data_out = r'C:\\Users\\juanb\\OneDrive\\Documentos\\Juan\\UdeSA - RA\\Paper World Bank'\n",
    "extension = '.R'\n",
    "\n",
    "for folders, subfolders, filenames in os.walk(data_in):\n",
    "    for filename in filenames:\n",
    "        if filename.endswith('{}'.format(extension)):\n",
    "            # print(filename)\n",
    "            shutil.copy(os.path.join(folders, filename), data_out)"
   ]
  }
 ],
 "metadata": {
  "kernelspec": {
   "display_name": "Python 3.9.10 64-bit",
   "language": "python",
   "name": "python3"
  },
  "language_info": {
   "codemirror_mode": {
    "name": "ipython",
    "version": 3
   },
   "file_extension": ".py",
   "mimetype": "text/x-python",
   "name": "python",
   "nbconvert_exporter": "python",
   "pygments_lexer": "ipython3",
   "version": "3.9.10"
  },
  "orig_nbformat": 4,
  "vscode": {
   "interpreter": {
    "hash": "11938c6bc6919ae2720b4d5011047913343b08a43b18698fd82dedb0d4417594"
   }
  }
 },
 "nbformat": 4,
 "nbformat_minor": 2
}
