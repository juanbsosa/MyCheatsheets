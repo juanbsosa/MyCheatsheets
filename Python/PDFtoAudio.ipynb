{
 "cells": [
  {
   "cell_type": "code",
   "execution_count": 2,
   "metadata": {},
   "outputs": [],
   "source": [
    "import PyPDF2, pyttsx3"
   ]
  },
  {
   "cell_type": "code",
   "execution_count": 3,
   "metadata": {},
   "outputs": [],
   "source": [
    "# Open PDF\n",
    "path=open(r\"C:\\Users\\Usuario\\Downloads\\Propuesta_de_Investgiación___J__B__Sosa.pdf\", 'rb')\n",
    "pdfReader=PyPDF2.PdfReader(path)"
   ]
  },
  {
   "cell_type": "code",
   "execution_count": 4,
   "metadata": {},
   "outputs": [],
   "source": [
    "engine=pyttsx3.init()\n",
    "engine.save_to_file(pdfReader, r'C:\\Users\\Usuario\\Desktop\\audio.mp3')"
   ]
  },
  {
   "cell_type": "code",
   "execution_count": 5,
   "metadata": {},
   "outputs": [],
   "source": [
    "# Save text to audio file\n",
    "entire_text = \"\"\n",
    "engine = pyttsx3.init()\n",
    "\n",
    "for page in range(len(pdfReader.pages)):\n",
    "\n",
    "        # Extract text\n",
    "        text=pdfReader.pages[page].extract_text()\n",
    "        entire_text = entire_text + text\n",
    "\n",
    "engine.save_to_file(entire_text, r'C:\\Users\\Usuario\\Desktop\\audio.mp3')\n",
    "engine.runAndWait()"
   ]
  },
  {
   "cell_type": "code",
   "execution_count": 20,
   "metadata": {},
   "outputs": [],
   "source": [
    "# Read text\n",
    "engine = pyttsx3.init()\n",
    "for page in range(len(pdfReader.pages)):\n",
    "    engine=pyttsx3.init()\n",
    "    engine.say(text)\n",
    "    engine.runAndWait()\n",
    "engine.stop()"
   ]
  }
 ],
 "metadata": {
  "kernelspec": {
   "display_name": "Python 3",
   "language": "python",
   "name": "python3"
  },
  "language_info": {
   "codemirror_mode": {
    "name": "ipython",
    "version": 3
   },
   "file_extension": ".py",
   "mimetype": "text/x-python",
   "name": "python",
   "nbconvert_exporter": "python",
   "pygments_lexer": "ipython3",
   "version": "3.9.6"
  },
  "orig_nbformat": 4
 },
 "nbformat": 4,
 "nbformat_minor": 2
}
