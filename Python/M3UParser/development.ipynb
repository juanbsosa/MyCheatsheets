{
 "cells": [
  {
   "cell_type": "code",
   "execution_count": 1,
   "metadata": {},
   "outputs": [
    {
     "name": "stdout",
     "output_type": "stream",
     "text": [
      "#EXTM3U\n",
      "\n",
      "#EXTINF:470,Adios Nonino - Astor Piazolla\n",
      "\n",
      "C:\\Users\\juanb\\Music\\iTunes\\iTunes Media\\Music\\Astor Piazolla\\Unknown Album\\01 Adios Nonino.mp3\n",
      "\n",
      "#EXTINF:267,Balada Para un Loco - Piazolla & Goyeneche\n",
      "\n",
      "C:\\Users\\juanb\\Music\\iTunes\\iTunes Media\\Music\\Piazolla & Goyeneche\\Unknown Album\\01 Balada Para un Loco.mp3\n",
      "\n",
      "#EXTINF:241,Volver - Astor Piazolla\n",
      "\n",
      "C:\\Users\\juanb\\Music\\iTunes\\iTunes Media\\Music\\Astor Piazolla\\Unknown Album\\01 Volver.mp3\n",
      "\n",
      "#EXTINF:167,Naranjo en Flor - Paolo Goyeneche\n",
      "\n",
      "C:\\Users\\juanb\\Music\\iTunes\\iTunes Media\\Music\\Paolo Goyeneche\\Unknown Album\\Naranjo en Flor.mp3\n",
      "\n",
      "#EXTINF:168,Libertango - Astor Piazolla\n",
      "\n",
      "C:\\Users\\juanb\\Music\\iTunes\\iTunes Media\\Music\\Unknown Artist\\Unknown Album\\Astor Piazzolla - Libertango.mp3\n",
      "\n",
      "#EXTINF:134,Por Una Cabeza - Astor Piazolla\n",
      "\n",
      "C:\\Users\\juanb\\Music\\iTunes\\iTunes Media\\Music\\Unknown Artist\\Unknown Album\\Astor Piazzolla - Por Una Cabeza.mp3\n",
      "\n",
      "#EXTINF:148,Por Una Cabeza - Carlos Gardel\n",
      "\n",
      "C:\\Users\\juanb\\Music\\iTunes\\iTunes Media\\Music\\Unknown Artist\\Unknown Album\\Carlos Gardel - Por Una Cabeza.mp3\n",
      "\n",
      "#EXTINF:209,Se Dice De Mi - Tita Merello\n",
      "\n",
      "C:\\Users\\juanb\\Music\\iTunes\\iTunes Media\\Music\\Tita Merello\\Unknown Album\\Se Dice De Mi.mp3\n",
      "\n"
     ]
    }
   ],
   "source": [
    "nombre_archivo = r\"C:\\Users\\juanb\\Music\\Tango.m3u\"\n",
    "with open(nombre_archivo, 'rt') as file:\n",
    "    for line in file:\n",
    "        print(line)"
   ]
  },
  {
   "cell_type": "code",
   "execution_count": 2,
   "metadata": {},
   "outputs": [
    {
     "name": "stdout",
     "output_type": "stream",
     "text": [
      "C:\\Users\\juanb\\Music\\iTunes\\iTunes Media\\Music\\Astor Piazolla\\Unknown Album\\01 Adios Nonino.mp3\n",
      "\n",
      "C:\\Users\\juanb\\Music\\iTunes\\iTunes Media\\Music\\Piazolla & Goyeneche\\Unknown Album\\01 Balada Para un Loco.mp3\n",
      "\n",
      "C:\\Users\\juanb\\Music\\iTunes\\iTunes Media\\Music\\Astor Piazolla\\Unknown Album\\01 Volver.mp3\n",
      "\n",
      "C:\\Users\\juanb\\Music\\iTunes\\iTunes Media\\Music\\Paolo Goyeneche\\Unknown Album\\Naranjo en Flor.mp3\n",
      "\n",
      "C:\\Users\\juanb\\Music\\iTunes\\iTunes Media\\Music\\Unknown Artist\\Unknown Album\\Astor Piazzolla - Libertango.mp3\n",
      "\n",
      "C:\\Users\\juanb\\Music\\iTunes\\iTunes Media\\Music\\Unknown Artist\\Unknown Album\\Astor Piazzolla - Por Una Cabeza.mp3\n",
      "\n",
      "C:\\Users\\juanb\\Music\\iTunes\\iTunes Media\\Music\\Unknown Artist\\Unknown Album\\Carlos Gardel - Por Una Cabeza.mp3\n",
      "\n",
      "C:\\Users\\juanb\\Music\\iTunes\\iTunes Media\\Music\\Tita Merello\\Unknown Album\\Se Dice De Mi.mp3\n",
      "\n"
     ]
    }
   ],
   "source": [
    "playlist_in = r'C:\\Users\\juanb\\Music\\Tango.m3u'\n",
    "playlist_out = r'C:\\Users\\juanb\\Music\\Tango2.m3u'\n",
    "with open(nombre_archivo, \"rt\") as f:\n",
    "    with open(playlist_out, \"w\") as f1:\n",
    "        for line in f:\n",
    "            if line.startswith(\"#\")==False:\n",
    "                print(line)\n",
    "                #f1.write(line) "
   ]
  },
  {
   "cell_type": "code",
   "execution_count": 12,
   "metadata": {},
   "outputs": [
    {
     "name": "stdout",
     "output_type": "stream",
     "text": [
      "../01 Adios Nonino.mp3\n",
      "\n",
      "../01 Balada Para un Loco.mp3\n",
      "\n",
      "../01 Volver.mp3\n",
      "\n",
      "../Naranjo en Flor.mp3\n",
      "\n",
      "../Astor Piazzolla - Libertango.mp3\n",
      "\n",
      "../Astor Piazzolla - Por Una Cabeza.mp3\n",
      "\n",
      "../Carlos Gardel - Por Una Cabeza.mp3\n",
      "\n",
      "../Se Dice De Mi.mp3\n",
      "\n"
     ]
    }
   ],
   "source": [
    "playlist_in = r'C:\\Users\\juanb\\Music\\Tango.m3u'\n",
    "playlist_out = r'C:\\Users\\juanb\\Music\\Tango2.m3u'\n",
    "with open(nombre_archivo, \"rt\") as f:\n",
    "    with open(playlist_out, \"w\") as f1:\n",
    "        f1.write(\"#EXTM3U\\n\")\n",
    "        for line in f:\n",
    "            if line.startswith(\"#\")==False:\n",
    "                song_name = line.split(\"\\\\\")[-1]\n",
    "                line_output = \"../\" + song_name\n",
    "                print(line_output)\n",
    "                # f1.write(line_output)"
   ]
  },
  {
   "cell_type": "code",
   "execution_count": 23,
   "metadata": {},
   "outputs": [],
   "source": [
    "playlist_in = r'C:\\Users\\juanb\\Music\\itunes_playslist_for_android\\in\\Añadidas Recientemente.m3u'\n",
    "playlist_out = r'C:\\Users\\juanb\\Music\\itunes_playslist_for_android\\out\\Añadidas Recientemente.m3u'\n",
    "with open(playlist_in, \"rt\") as f:\n",
    "    with open(playlist_out, \"w\") as f1:\n",
    "        f1.write(\"#EXTM3U\\n\")\n",
    "        for line in f:\n",
    "            if line.startswith(\"#\")==False:\n",
    "                song_name = line.split(\"\\\\\")[-1]\n",
    "                line_output = \"../\" + song_name\n",
    "                # print(line_output)\n",
    "                f1.write(line_output)"
   ]
  },
  {
   "cell_type": "code",
   "execution_count": null,
   "metadata": {},
   "outputs": [],
   "source": [
    "# pasar todos los arhcivos de musica nuevos desde la biblioteca de itunes a la carpeta music del telefono\n",
    "# exportar todos los archivos m3u desde itunes a una carpeta que elija dentro de mi compu.\n",
    "# La funcion deberia ir a esa carpeta donde estan los m3u exportados y \n",
    "# por cada archivo, leerlo y cambiarle el directorio a cada linea y crear el archivo en la carpeta playlist del telefono.\n",
    "# El archivo m3u del telefono se tendria que sobreescribir.\n",
    "# y despues creo que habria que eliminar todas las listas de samsung music y luego volver a importar todos los archivos m3u de la carpeta playlist del telefono\n",
    "\n",
    "# LE FALTA\n",
    "# que vaya a la carpeta donde estan las playlist exportadas, loopee por archivo y cree cada m3u nuevo en el telefono con el mismo nombre"
   ]
  },
  {
   "cell_type": "code",
   "execution_count": 25,
   "metadata": {},
   "outputs": [
    {
     "data": {
      "text/plain": [
       "['70s_80s.m3u',\n",
       " '90s Techno_Dance.m3u',\n",
       " 'Acid.m3u',\n",
       " 'Africana.m3u',\n",
       " 'Ambient.m3u',\n",
       " 'Arriba.m3u',\n",
       " 'Añadidas Recientemente.m3u',\n",
       " 'Electro Cool _ Micro.m3u',\n",
       " 'Juan.m3u',\n",
       " 'Prepara el ataque aereo.m3u']"
      ]
     },
     "execution_count": 25,
     "metadata": {},
     "output_type": "execute_result"
    }
   ],
   "source": [
    "from os import listdir\n",
    "from os.path import isfile, join\n",
    "mypath= r'C:\\Users\\juanb\\Music\\itunes_playslist_for_android\\in'\n",
    "m3u_files = [f for f in listdir(mypath) if isfile(join(mypath, f))]\n",
    "m3u_files"
   ]
  },
  {
   "cell_type": "code",
   "execution_count": 27,
   "metadata": {},
   "outputs": [
    {
     "data": {
      "text/plain": [
       "['70s_80s.m3u',\n",
       " '90s Techno_Dance.m3u',\n",
       " 'Acid.m3u',\n",
       " 'Africana.m3u',\n",
       " 'Ambient.m3u',\n",
       " 'Arriba.m3u',\n",
       " 'Añadidas Recientemente.m3u',\n",
       " 'Electro Cool _ Micro.m3u',\n",
       " 'Juan.m3u',\n",
       " 'Prepara el ataque aereo.m3u']"
      ]
     },
     "execution_count": 27,
     "metadata": {},
     "output_type": "execute_result"
    }
   ],
   "source": [
    "from os import listdir\n",
    "from os.path import isfile, join\n",
    "mypath= r'C:\\Users\\juanb\\Music\\itunes_playslist_for_android\\in'\n",
    "m3u_files = [f for f in listdir(mypath) if f.endswith(\".m3u\")]\n",
    "m3u_files"
   ]
  },
  {
   "cell_type": "code",
   "execution_count": 33,
   "metadata": {},
   "outputs": [
    {
     "name": "stdout",
     "output_type": "stream",
     "text": [
      "C:\\Users\\juanb\\Music\\itunes_playslist_for_android\\in\\70s_80s.m3u\n",
      "C:\\Users\\juanb\\Music\\itunes_playslist_for_android\\in\\90s Techno_Dance.m3u\n",
      "C:\\Users\\juanb\\Music\\itunes_playslist_for_android\\in\\Acid.m3u\n",
      "C:\\Users\\juanb\\Music\\itunes_playslist_for_android\\in\\Africana.m3u\n",
      "C:\\Users\\juanb\\Music\\itunes_playslist_for_android\\in\\Ambient.m3u\n",
      "C:\\Users\\juanb\\Music\\itunes_playslist_for_android\\in\\Arriba.m3u\n",
      "C:\\Users\\juanb\\Music\\itunes_playslist_for_android\\in\\Añadidas Recientemente.m3u\n",
      "C:\\Users\\juanb\\Music\\itunes_playslist_for_android\\in\\Electro Cool _ Micro.m3u\n",
      "C:\\Users\\juanb\\Music\\itunes_playslist_for_android\\in\\Juan.m3u\n",
      "C:\\Users\\juanb\\Music\\itunes_playslist_for_android\\in\\Prepara el ataque aereo.m3u\n"
     ]
    }
   ],
   "source": [
    "playlist_in = r'C:\\Users\\juanb\\Music\\itunes_playslist_for_android\\in'\n",
    "playlist_out = r'C:\\Users\\juanb\\Music\\itunes_playslist_for_android\\out'\n",
    "for file in m3u_files:\n",
    "    print(os.path.join(playlist_in, file))"
   ]
  },
  {
   "cell_type": "code",
   "execution_count": 43,
   "metadata": {},
   "outputs": [],
   "source": [
    "import os\n",
    "playlist_in = r'C:\\Users\\juanb\\Music\\itunes_playslist_for_android\\in'\n",
    "playlist_out = r'C:\\Users\\juanb\\Music\\itunes_playslist_for_android\\out'\n",
    "\n",
    "m3u_files = [f for f in listdir(playlist_in) if f.endswith(\".m3u\")]\n",
    "\n",
    "for file in m3u_files:\n",
    "    file_in = os.path.join(playlist_in, file)\n",
    "    file_out = os.path.join(playlist_out, file)\n",
    "    with open(file_in, \"rt\", encoding=\"utf8\") as f:\n",
    "        with open(file_out, \"w\", encoding=\"utf8\") as f1:\n",
    "            f1.write(\"#EXTM3U\\n\")\n",
    "            for line in f:\n",
    "                if line.startswith(\"#\")==False:\n",
    "                    song_name = line.split(\"\\\\\")[-1]\n",
    "                    line_output = \"../\" + song_name\n",
    "                    f1.write(line_output)"
   ]
  }
 ],
 "metadata": {
  "kernelspec": {
   "display_name": "Python 3.9.10 64-bit",
   "language": "python",
   "name": "python3"
  },
  "language_info": {
   "codemirror_mode": {
    "name": "ipython",
    "version": 3
   },
   "file_extension": ".py",
   "mimetype": "text/x-python",
   "name": "python",
   "nbconvert_exporter": "python",
   "pygments_lexer": "ipython3",
   "version": "3.9.10"
  },
  "orig_nbformat": 4,
  "vscode": {
   "interpreter": {
    "hash": "11938c6bc6919ae2720b4d5011047913343b08a43b18698fd82dedb0d4417594"
   }
  }
 },
 "nbformat": 4,
 "nbformat_minor": 2
}
