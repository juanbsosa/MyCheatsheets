{
 "cells": [
  {
   "cell_type": "code",
   "execution_count": 35,
   "metadata": {},
   "outputs": [],
   "source": [
    "# Import necessary packages\n",
    "from pytube import YouTube\n",
    "import os"
   ]
  },
  {
   "cell_type": "code",
   "execution_count": 36,
   "metadata": {},
   "outputs": [],
   "source": [
    "# Get URL imput from user\n",
    "yt = YouTube(str(input(\"Enter video URL: \\n>>\")))"
   ]
  },
  {
   "cell_type": "code",
   "execution_count": 37,
   "metadata": {},
   "outputs": [],
   "source": [
    "# Extract audio from video\n",
    "audio = yt.streams.filter(only_audio=True).first()"
   ]
  },
  {
   "cell_type": "code",
   "execution_count": 38,
   "metadata": {},
   "outputs": [
    {
     "name": "stdout",
     "output_type": "stream",
     "text": [
      "Enter directory or leave blank for current directory\n"
     ]
    }
   ],
   "source": [
    "# Enter fol\n",
    "print(\"Enter directory or leave blank for current directory\")\n",
    "destination = str(input(\">> \")) or \".\"\n"
   ]
  },
  {
   "cell_type": "code",
   "execution_count": 39,
   "metadata": {},
   "outputs": [],
   "source": [
    "# Download the audio file\n",
    "out_file = audio.download(output_path=destination)"
   ]
  },
  {
   "cell_type": "code",
   "execution_count": 40,
   "metadata": {},
   "outputs": [],
   "source": [
    "# Save the file\n",
    "base, ext = os.path.splitext(out_file)\n",
    "\n",
    "# Option to define a file name different from the video's title\n",
    "new_title = str(input(\"Write file name in the format Artist - Song Name, or leave blank and use video's title:\")) or \"\"\n",
    "if new_title!=\"\":\n",
    "    base = \"\\\\\".join(base.split(\"\\\\\")[0:-1]) + \"\\\\\" + new_title\n",
    "new_file = base + '.mp3'\n",
    "os.rename(out_file, new_file)"
   ]
  },
  {
   "cell_type": "code",
   "execution_count": 21,
   "metadata": {},
   "outputs": [
    {
     "name": "stdout",
     "output_type": "stream",
     "text": [
      "Paul Ritch - Asteroidhas been successfully downloaded.\n"
     ]
    }
   ],
   "source": [
    "# Report success\n",
    "print(yt.title + \"has been successfully downloaded.\")"
   ]
  }
 ],
 "metadata": {
  "kernelspec": {
   "display_name": "Python 3.11.0 64-bit",
   "language": "python",
   "name": "python3"
  },
  "language_info": {
   "codemirror_mode": {
    "name": "ipython",
    "version": 3
   },
   "file_extension": ".py",
   "mimetype": "text/x-python",
   "name": "python",
   "nbconvert_exporter": "python",
   "pygments_lexer": "ipython3",
   "version": "3.11.0"
  },
  "orig_nbformat": 4,
  "vscode": {
   "interpreter": {
    "hash": "c812eb984687e98b7686c463c3fae2045e58b2a2b4e065b3dcebe3cb7d51662e"
   }
  }
 },
 "nbformat": 4,
 "nbformat_minor": 2
}
